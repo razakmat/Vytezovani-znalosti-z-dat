{
 "cells": [
  {
   "cell_type": "markdown",
   "metadata": {},
   "source": [
    "# Úkol č. 2 - předzpracování dat a binární klasifikace (do 7. prosince)\n",
    "\n",
    "  * V rámci tohoto úkolu se musíte vypořádat s příznaky, které jsou různých typů.\n",
    "  * Před tím, než na nich postavíte predikční model, je třeba je nějakým způsobem převést do číselné reprezentace.\n",
    "    \n",
    "> **Úkoly jsou zadány tak, aby Vám daly prostor pro invenci. Vymyslet _jak přesně_ budete úkol řešit, je důležitou součástí zadání a originalita či nápaditost bude také hodnocena!**\n",
    "\n",
    "## Zdroj dat\n",
    "\n",
    "Budeme se zabývat predikcí přežití pasažérů Titaniku.\n",
    "K dispozici máte trénovací data v souboru **data.csv** a data na vyhodnocení v souboru **evaluation.csv**.\n",
    "\n",
    "#### Seznam příznaků:\n",
    "* survived - zda přežil, 0 = Ne, 1 = Ano, **vysvětlovaná proměnná**, kterou chcete predikovat\n",
    "* pclass - Třída lodního lístku, 1 = první, 2 = druhá, 3 = třetí\n",
    "* name - jméno\n",
    "* sex - pohlaví\n",
    "* age - věk v letech\n",
    "* sibsp\t- počet sourozenců / manželů, manželek na palubě\n",
    "* parch - počet rodičů / dětí na palubě\n",
    "* ticket - číslo lodního lístku\n",
    "* fare - cena lodního lístku\n",
    "* cabin\t- číslo kajuty\n",
    "* embarked\t- místo nalodění, C = Cherbourg, Q = Queenstown, S = Southampton\n",
    "* home.dest - Bydliště/Cíl\n",
    "\n",
    "## Pokyny k vypracování\n",
    "\n",
    "**Základní body zadání**, za jejichž (poctivé) vypracování získáte **8 bodů**:\n",
    "  * V Jupyter notebooku načtěte data ze souboru **data.csv**. Vhodným způsobem si je rozdělte na trénovací, testovací a případně i validační množinu.\n",
    "  * Projděte si jednotlivé příznaky a transformujte je do vhodné podoby pro použití ve vybraném klasifikačním modelu.\n",
    "  * Podle potřeby si můžete vytvářet nové příznaky (na základě existujících), například tedy můžete vytvořit příznak měřící délku jména. Některé příznaky můžete také úplně zahodit.\n",
    "  * Nějakým způsobem se vypořádejte s chybějícími hodnotami.\n",
    "  * Následně si vyberte vhodný klasifikační model z přednášek. Najděte vhodné hyperparametry a určete jeho přesnost (accuracy) na trénovací množině. Také určete jeho přesnost na testovací množině.\n",
    "  * Načtěte vyhodnocovací data ze souboru **evaluation.csv**. Napočítejte predikce pro tyto data (vysvětlovaná proměnná v nich již není). Vytvořte **results.csv** soubor, ve kterém tyto predikce uložíte do dvou sloupců: ID, predikce přežití. Tento soubor nahrajte do repozitáře.\n",
    "\n",
    "**Další body zadání** za případné další body  (můžete si vybrat, maximum bodů za úkol je každopádně 12 bodů):\n",
    "  * (až +4 body) Aplikujte všechny klasifikační modely z přednášek a určete (na základě přesnosti na validační množině), který je nejlepší. Přesnost tohoto nejlepšího modelu odhadněte pomocí testovací množiny. K predikcím na vyhodnocovacích datech využijte tento model.\n",
    "  * (až +4 body) Zkuste použít nějaké (alespoň dvě) netriviální metody doplňování chybějících hodnot u věku. Zaměřte na vliv těchto metod na přesnost predikce výsledného modelu. K predikcím na vyhodnocovacích datech využijte ten přístup, který Vám vyjde jako nejlepší.\n",
    "\n",
    "## Poznámky k odevzdání\n",
    "\n",
    "  * Řiďte se pokyny ze stránky https://courses.fit.cvut.cz/BI-VZD/homeworks/index.html.\n",
    "  * Odevzdejte nejen Jupyter Notebook, ale i _csv_ soubor(y) s predikcemi pro vyhodnocovací data.\n",
    "  * Opravující Vám může umožnit úkol dodělat či opravit a získat tak další body. První verze je ale důležitá a bude-li odbytá, budete za to penalizováni**"
   ]
  },
  {
   "cell_type": "code",
   "execution_count": 1,
   "metadata": {},
   "outputs": [],
   "source": [
    "import pandas as pd\n",
    "import numpy as np\n",
    "import math\n",
    "from scipy.misc import logsumexp\n",
    "import sklearn.metrics as metrics\n",
    "from sklearn.naive_bayes import BernoulliNB, MultinomialNB\n",
    "from sklearn.datasets import fetch_20newsgroups\n",
    "from sklearn.feature_extraction.text import CountVectorizer\n",
    "from sklearn.pipeline import Pipeline\n",
    "from sklearn.model_selection import train_test_split\n",
    "from sklearn.model_selection import ParameterGrid\n",
    "from sklearn.linear_model import LinearRegression\n",
    "from sklearn.neighbors import KNeighborsRegressor\n",
    "from sklearn.tree import DecisionTreeClassifier\n",
    "from sklearn.tree import DecisionTreeRegressor\n",
    "from sklearn.ensemble import RandomForestClassifier\n",
    "import matplotlib.pyplot as plt\n",
    "import matplotlib\n",
    "%matplotlib inline\n",
    "pd.set_option('display.max_rows', 2000)"
   ]
  },
  {
   "cell_type": "code",
   "execution_count": 2,
   "metadata": {},
   "outputs": [],
   "source": [
    "def upravaDat(data):\n",
    "    display(data[data.drop(['cabin','age','home.dest'],axis=1).isnull().any(axis=1)])\n",
    "    data = fare(data)\n",
    "    data = embarked(data)    \n",
    "    data = pclass(data)\n",
    "    data = name(data)\n",
    "    data = sex(data)    \n",
    "    data = sibsp(data)\n",
    "    data = parch(data)\n",
    "    data = ticket(data)\n",
    "    data = cabin(data)\n",
    "    data = age(data)\n",
    "    data = home_dest(data)\n",
    "    return data"
   ]
  },
  {
   "cell_type": "code",
   "execution_count": 3,
   "metadata": {},
   "outputs": [],
   "source": [
    "def pclass(data):\n",
    "    print('\\n-----------pclass-------\\n')\n",
    "    display(data['pclass'].value_counts())\n",
    "    return data"
   ]
  },
  {
   "cell_type": "code",
   "execution_count": 4,
   "metadata": {},
   "outputs": [],
   "source": [
    "def name(data):\n",
    "    data.insert(3,'titul',data.iloc[:,3].str.split(' ').str[1])\n",
    "    for i in data.index:\n",
    "        if data.loc[i,'titul'] != 'Mr.' and data.loc[i,'titul'] != 'Miss.' and data.loc[i,'titul'] != 'Mrs.' and data.loc[i,'titul'] != 'Master.':\n",
    "            data.loc[i,'titul'] = 'Other'\n",
    "    data = data.drop(['name'],axis=1)\n",
    "    data['titul'] = data['titul'].map({'Mr.' : 0 , 'Miss.' : 1 , 'Mrs.' : 2 , 'Master.' : 3 , 'Other' : 4 })\n",
    "    return data"
   ]
  },
  {
   "cell_type": "code",
   "execution_count": 5,
   "metadata": {},
   "outputs": [],
   "source": [
    "def sex(data):\n",
    "    data['sex'] = data['sex'].map({'female' : 0 , 'male' : 1 })\n",
    "    data['sex'] = data['sex'].astype('int64')\n",
    "    return data"
   ]
  },
  {
   "cell_type": "code",
   "execution_count": 17,
   "metadata": {},
   "outputs": [],
   "source": [
    "def age(data):\n",
    "    print('\\n-----------age-------\\n')\n",
    "    display(data.corr().age)\n",
    "    \n",
    "    for i in np.arange(1, 4, 1):\n",
    "        for j in np.arange(0, 7, 1):\n",
    "            data.loc[(data['age'].isnull()) & (data['pclass'] == i) & (data['sibsp'] == j), 'age'] = data[ (data['pclass']== i) & (data['sibsp'] == j) ]['age'].mean()\n",
    "    \n",
    "    data['age'] = pd.cut(data['age'].astype('int64'),bins=[0,10,18,25,30,45,55,1000],labels=[0,1,2,3,4,5,6],include_lowest=True)\n",
    "    data['age'] = data['age'].astype('int64')\n",
    "    display(data['age'].value_counts())\n",
    "    return data"
   ]
  },
  {
   "cell_type": "code",
   "execution_count": 7,
   "metadata": {},
   "outputs": [],
   "source": [
    "def sibsp(data):\n",
    "\n",
    "    data.loc[data['sibsp'] > 4, 'sibsp'] = 5\n",
    "\n",
    "    print('\\n-----------sibsp-------\\n')\n",
    "    display(data['sibsp'].value_counts())\n",
    "    return data"
   ]
  },
  {
   "cell_type": "code",
   "execution_count": 8,
   "metadata": {},
   "outputs": [],
   "source": [
    "def parch(data):\n",
    "\n",
    "    data.loc[data['parch'] > 4, 'parch'] = 5\n",
    "    print('\\n-----------parch-------\\n')\n",
    "    display(data['parch'].value_counts())\n",
    "    return data"
   ]
  },
  {
   "cell_type": "code",
   "execution_count": 9,
   "metadata": {},
   "outputs": [],
   "source": [
    "def ticket(data):\n",
    "    data = data.drop(['ticket'],axis=1)\n",
    "    return data"
   ]
  },
  {
   "cell_type": "code",
   "execution_count": 10,
   "metadata": {},
   "outputs": [],
   "source": [
    "def fare(data):\n",
    "    data['fare'] = data['fare'].fillna(data[data['pclass']==3]['fare'].value_counts().keys()[0])\n",
    "    data['fare'] = pd.cut(data['fare'].astype('int64'),bins=[0,10,30,70,100,1000],labels=[0,1,2,3,4],include_lowest=True)\n",
    "    data['fare'] = data['fare'].astype('int64')\n",
    "    return data"
   ]
  },
  {
   "cell_type": "code",
   "execution_count": 11,
   "metadata": {},
   "outputs": [],
   "source": [
    "def cabin(data):\n",
    "    print('\\n-----------cabin-------\\n')\n",
    "    data.insert(11,'paluba',data.loc[:,'cabin'].str[0])\n",
    "    data.insert(11,'pozice',data.loc[:,'cabin'].str[1:].str.split(' ').str[0])\n",
    "    data = data.drop(['cabin'],axis=1)\n",
    "    for i in data.index:\n",
    "        if data.loc[i,'pozice'] == '':\n",
    "            data.loc[i,'pozice'] = np.nan\n",
    "    data['pozice'] = data['pozice'].fillna(int(data[data.notnull().pozice]['pozice'].astype('int64').mean()))\n",
    "    data['paluba'] = data['paluba'].fillna('C')    \n",
    "    data.loc[data['paluba'] > 'F', 'paluba'] = 'G'\n",
    "    display(data['paluba'].value_counts())\n",
    "    data['paluba'] = data['paluba'].map({'A' : 0 , 'B' : 1 , 'C' : 2 , 'D' : 3 , 'E' : 4 , 'F' : 5 , 'G' : 6})\n",
    "    \n",
    "    data['pozice'] = pd.cut(data['pozice'].astype('int64'),bins=[0,20,45,50,100,1000],labels=[0,1,2,3,4],include_lowest=True)\n",
    "    data['pozice'] = data['pozice'].astype('int64')\n",
    "    \n",
    "    display(data['pozice'].value_counts())\n",
    "    \n",
    "    return data"
   ]
  },
  {
   "cell_type": "code",
   "execution_count": 12,
   "metadata": {},
   "outputs": [],
   "source": [
    "def embarked(data):\n",
    "    data['embarked'] = data['embarked'].fillna(data['embarked'].value_counts().keys()[0])\n",
    "    print('\\n-----------embarked-------\\n')\n",
    "    display(data['embarked'].value_counts())\n",
    "    data['embarked'] = data['embarked'].map({'S' : 1 , 'C' : 0 , 'Q' : 2})\n",
    "    \n",
    "    return data"
   ]
  },
  {
   "cell_type": "code",
   "execution_count": 13,
   "metadata": {},
   "outputs": [],
   "source": [
    "def home_dest(data):\n",
    "    data = data.drop(['home.dest'],axis=1)\n",
    "    return data"
   ]
  },
  {
   "cell_type": "code",
   "execution_count": 15,
   "metadata": {},
   "outputs": [],
   "source": [
    "def forest(data):\n",
    "    X, X_test, Y, Y_test = train_test_split(data.drop(columns = ['ID', 'survived']), data['survived'], test_size=0.25, random_state=42)\n",
    "    Xtrain, Xval, Ytrain, Yval = train_test_split(X, Y, test_size=0.25, random_state=235)\n",
    "    param_grid = {\n",
    "        'n_estimators': range(1,100,5),\n",
    "        'max_depth': range(1,6)\n",
    "    }\n",
    "    param_comb = ParameterGrid(param_grid)\n",
    "    val_acc = []\n",
    "    for param in param_comb:\n",
    "        ret = RandomForestClassifier(**param)\n",
    "        ret.fit(Xtrain, Ytrain)\n",
    "        val_acc.append(math.sqrt(metrics.mean_squared_error(Yval, ret.predict(Xval))))\n",
    "    best_param = param_comb[np.argmin(val_acc)]\n",
    "    ret = RandomForestClassifier(**best_param)\n",
    "    ret.fit(Xtrain, Ytrain)\n",
    "    print('accuracy score (train): {0:.2f}'.format(metrics.accuracy_score(Y, ret.predict(X))*100),'%')\n",
    "    print('accuracy score (test): {0:.2f}'.format(metrics.accuracy_score(Y_test, ret.predict(X_test))*100),'%')\n",
    "    return ret"
   ]
  },
  {
   "cell_type": "code",
   "execution_count": 18,
   "metadata": {},
   "outputs": [
    {
     "name": "stdout",
     "output_type": "stream",
     "text": [
      "<class 'pandas.core.frame.DataFrame'>\n",
      "RangeIndex: 1000 entries, 0 to 999\n",
      "Data columns (total 13 columns):\n",
      "ID           1000 non-null int64\n",
      "survived     1000 non-null int64\n",
      "pclass       1000 non-null int64\n",
      "name         1000 non-null object\n",
      "sex          1000 non-null object\n",
      "age          796 non-null float64\n",
      "sibsp        1000 non-null int64\n",
      "parch        1000 non-null int64\n",
      "ticket       1000 non-null object\n",
      "fare         999 non-null float64\n",
      "cabin        229 non-null object\n",
      "embarked     999 non-null object\n",
      "home.dest    575 non-null object\n",
      "dtypes: float64(2), int64(5), object(6)\n",
      "memory usage: 101.6+ KB\n"
     ]
    },
    {
     "data": {
      "text/html": [
       "<div>\n",
       "<style scoped>\n",
       "    .dataframe tbody tr th:only-of-type {\n",
       "        vertical-align: middle;\n",
       "    }\n",
       "\n",
       "    .dataframe tbody tr th {\n",
       "        vertical-align: top;\n",
       "    }\n",
       "\n",
       "    .dataframe thead th {\n",
       "        text-align: right;\n",
       "    }\n",
       "</style>\n",
       "<table border=\"1\" class=\"dataframe\">\n",
       "  <thead>\n",
       "    <tr style=\"text-align: right;\">\n",
       "      <th></th>\n",
       "      <th>ID</th>\n",
       "      <th>survived</th>\n",
       "      <th>pclass</th>\n",
       "      <th>name</th>\n",
       "      <th>sex</th>\n",
       "      <th>age</th>\n",
       "      <th>sibsp</th>\n",
       "      <th>parch</th>\n",
       "      <th>ticket</th>\n",
       "      <th>fare</th>\n",
       "      <th>cabin</th>\n",
       "      <th>embarked</th>\n",
       "      <th>home.dest</th>\n",
       "    </tr>\n",
       "  </thead>\n",
       "  <tbody>\n",
       "    <tr>\n",
       "      <th>484</th>\n",
       "      <td>484</td>\n",
       "      <td>0</td>\n",
       "      <td>3</td>\n",
       "      <td>Storey, Mr. Thomas</td>\n",
       "      <td>male</td>\n",
       "      <td>60.5</td>\n",
       "      <td>0</td>\n",
       "      <td>0</td>\n",
       "      <td>3701</td>\n",
       "      <td>NaN</td>\n",
       "      <td>NaN</td>\n",
       "      <td>S</td>\n",
       "      <td>NaN</td>\n",
       "    </tr>\n",
       "    <tr>\n",
       "      <th>833</th>\n",
       "      <td>833</td>\n",
       "      <td>1</td>\n",
       "      <td>1</td>\n",
       "      <td>Stone, Mrs. George Nelson (Martha Evelyn)</td>\n",
       "      <td>female</td>\n",
       "      <td>62.0</td>\n",
       "      <td>0</td>\n",
       "      <td>0</td>\n",
       "      <td>113572</td>\n",
       "      <td>80.0</td>\n",
       "      <td>B28</td>\n",
       "      <td>NaN</td>\n",
       "      <td>Cincinatti, OH</td>\n",
       "    </tr>\n",
       "  </tbody>\n",
       "</table>\n",
       "</div>"
      ],
      "text/plain": [
       "      ID  survived  pclass                                       name     sex  \\\n",
       "484  484         0       3                         Storey, Mr. Thomas    male   \n",
       "833  833         1       1  Stone, Mrs. George Nelson (Martha Evelyn)  female   \n",
       "\n",
       "      age  sibsp  parch  ticket  fare cabin embarked       home.dest  \n",
       "484  60.5      0      0    3701   NaN   NaN        S             NaN  \n",
       "833  62.0      0      0  113572  80.0   B28      NaN  Cincinatti, OH  "
      ]
     },
     "metadata": {},
     "output_type": "display_data"
    },
    {
     "name": "stdout",
     "output_type": "stream",
     "text": [
      "\n",
      "-----------embarked-------\n",
      "\n"
     ]
    },
    {
     "data": {
      "text/plain": [
       "S    700\n",
       "C    199\n",
       "Q    101\n",
       "Name: embarked, dtype: int64"
      ]
     },
     "metadata": {},
     "output_type": "display_data"
    },
    {
     "name": "stdout",
     "output_type": "stream",
     "text": [
      "\n",
      "-----------pclass-------\n",
      "\n"
     ]
    },
    {
     "data": {
      "text/plain": [
       "3    539\n",
       "1    252\n",
       "2    209\n",
       "Name: pclass, dtype: int64"
      ]
     },
     "metadata": {},
     "output_type": "display_data"
    },
    {
     "name": "stdout",
     "output_type": "stream",
     "text": [
      "\n",
      "-----------sibsp-------\n",
      "\n"
     ]
    },
    {
     "data": {
      "text/plain": [
       "0    691\n",
       "1    237\n",
       "2     29\n",
       "4     16\n",
       "3     14\n",
       "5     13\n",
       "Name: sibsp, dtype: int64"
      ]
     },
     "metadata": {},
     "output_type": "display_data"
    },
    {
     "name": "stdout",
     "output_type": "stream",
     "text": [
      "\n",
      "-----------parch-------\n",
      "\n"
     ]
    },
    {
     "data": {
      "text/plain": [
       "0    762\n",
       "1    127\n",
       "2     91\n",
       "5      9\n",
       "4      6\n",
       "3      5\n",
       "Name: parch, dtype: int64"
      ]
     },
     "metadata": {},
     "output_type": "display_data"
    },
    {
     "name": "stdout",
     "output_type": "stream",
     "text": [
      "\n",
      "-----------cabin-------\n",
      "\n"
     ]
    },
    {
     "data": {
      "text/plain": [
       "C    848\n",
       "B     51\n",
       "D     34\n",
       "E     27\n",
       "F     18\n",
       "A     18\n",
       "G      4\n",
       "Name: paluba, dtype: int64"
      ]
     },
     "metadata": {},
     "output_type": "display_data"
    },
    {
     "data": {
      "text/plain": [
       "2    795\n",
       "1     71\n",
       "3     60\n",
       "0     49\n",
       "4     25\n",
       "Name: pozice, dtype: int64"
      ]
     },
     "metadata": {},
     "output_type": "display_data"
    },
    {
     "name": "stdout",
     "output_type": "stream",
     "text": [
      "\n",
      "-----------age-------\n",
      "\n"
     ]
    },
    {
     "data": {
      "text/plain": [
       "ID         -0.040071\n",
       "survived   -0.069022\n",
       "pclass     -0.406653\n",
       "titul      -0.093171\n",
       "sex         0.056081\n",
       "age         1.000000\n",
       "sibsp      -0.255702\n",
       "parch      -0.158004\n",
       "fare        0.186121\n",
       "embarked   -0.093545\n",
       "pozice     -0.018537\n",
       "paluba     -0.026705\n",
       "Name: age, dtype: float64"
      ]
     },
     "metadata": {},
     "output_type": "display_data"
    },
    {
     "data": {
      "text/plain": [
       "3    263\n",
       "4    246\n",
       "2    210\n",
       "1     93\n",
       "0     74\n",
       "5     67\n",
       "6     47\n",
       "Name: age, dtype: int64"
      ]
     },
     "metadata": {},
     "output_type": "display_data"
    },
    {
     "name": "stdout",
     "output_type": "stream",
     "text": [
      "<class 'pandas.core.frame.DataFrame'>\n",
      "RangeIndex: 1000 entries, 0 to 999\n",
      "Data columns (total 12 columns):\n",
      "ID          1000 non-null int64\n",
      "survived    1000 non-null int64\n",
      "pclass      1000 non-null int64\n",
      "titul       1000 non-null int64\n",
      "sex         1000 non-null int64\n",
      "age         1000 non-null int64\n",
      "sibsp       1000 non-null int64\n",
      "parch       1000 non-null int64\n",
      "fare        1000 non-null int64\n",
      "embarked    1000 non-null int64\n",
      "pozice      1000 non-null int64\n",
      "paluba      1000 non-null int64\n",
      "dtypes: int64(12)\n",
      "memory usage: 93.8 KB\n"
     ]
    }
   ],
   "source": [
    "data = pd.read_csv('data.csv')\n",
    "data.info()\n",
    "data = upravaDat(data)\n",
    "data.info()\n"
   ]
  },
  {
   "cell_type": "code",
   "execution_count": 19,
   "metadata": {},
   "outputs": [
    {
     "name": "stdout",
     "output_type": "stream",
     "text": [
      "<class 'pandas.core.frame.DataFrame'>\n",
      "RangeIndex: 309 entries, 0 to 308\n",
      "Data columns (total 12 columns):\n",
      "ID           309 non-null int64\n",
      "pclass       309 non-null int64\n",
      "name         309 non-null object\n",
      "sex          309 non-null object\n",
      "age          250 non-null float64\n",
      "sibsp        309 non-null int64\n",
      "parch        309 non-null int64\n",
      "ticket       309 non-null object\n",
      "fare         309 non-null float64\n",
      "cabin        66 non-null object\n",
      "embarked     308 non-null object\n",
      "home.dest    170 non-null object\n",
      "dtypes: float64(2), int64(4), object(6)\n",
      "memory usage: 29.0+ KB\n"
     ]
    },
    {
     "data": {
      "text/html": [
       "<div>\n",
       "<style scoped>\n",
       "    .dataframe tbody tr th:only-of-type {\n",
       "        vertical-align: middle;\n",
       "    }\n",
       "\n",
       "    .dataframe tbody tr th {\n",
       "        vertical-align: top;\n",
       "    }\n",
       "\n",
       "    .dataframe thead th {\n",
       "        text-align: right;\n",
       "    }\n",
       "</style>\n",
       "<table border=\"1\" class=\"dataframe\">\n",
       "  <thead>\n",
       "    <tr style=\"text-align: right;\">\n",
       "      <th></th>\n",
       "      <th>ID</th>\n",
       "      <th>pclass</th>\n",
       "      <th>name</th>\n",
       "      <th>sex</th>\n",
       "      <th>age</th>\n",
       "      <th>sibsp</th>\n",
       "      <th>parch</th>\n",
       "      <th>ticket</th>\n",
       "      <th>fare</th>\n",
       "      <th>cabin</th>\n",
       "      <th>embarked</th>\n",
       "      <th>home.dest</th>\n",
       "    </tr>\n",
       "  </thead>\n",
       "  <tbody>\n",
       "    <tr>\n",
       "      <th>13</th>\n",
       "      <td>1013</td>\n",
       "      <td>1</td>\n",
       "      <td>Icard, Miss. Amelie</td>\n",
       "      <td>female</td>\n",
       "      <td>38.0</td>\n",
       "      <td>0</td>\n",
       "      <td>0</td>\n",
       "      <td>113572</td>\n",
       "      <td>80.0</td>\n",
       "      <td>B28</td>\n",
       "      <td>NaN</td>\n",
       "      <td>NaN</td>\n",
       "    </tr>\n",
       "  </tbody>\n",
       "</table>\n",
       "</div>"
      ],
      "text/plain": [
       "      ID  pclass                 name     sex   age  sibsp  parch  ticket  \\\n",
       "13  1013       1  Icard, Miss. Amelie  female  38.0      0      0  113572   \n",
       "\n",
       "    fare cabin embarked home.dest  \n",
       "13  80.0   B28      NaN       NaN  "
      ]
     },
     "metadata": {},
     "output_type": "display_data"
    },
    {
     "name": "stdout",
     "output_type": "stream",
     "text": [
      "\n",
      "-----------embarked-------\n",
      "\n"
     ]
    },
    {
     "data": {
      "text/plain": [
       "S    216\n",
       "C     71\n",
       "Q     22\n",
       "Name: embarked, dtype: int64"
      ]
     },
     "metadata": {},
     "output_type": "display_data"
    },
    {
     "name": "stdout",
     "output_type": "stream",
     "text": [
      "\n",
      "-----------pclass-------\n",
      "\n"
     ]
    },
    {
     "data": {
      "text/plain": [
       "3    170\n",
       "1     71\n",
       "2     68\n",
       "Name: pclass, dtype: int64"
      ]
     },
     "metadata": {},
     "output_type": "display_data"
    },
    {
     "name": "stdout",
     "output_type": "stream",
     "text": [
      "\n",
      "-----------sibsp-------\n",
      "\n"
     ]
    },
    {
     "data": {
      "text/plain": [
       "0    200\n",
       "1     82\n",
       "2     13\n",
       "4      6\n",
       "3      6\n",
       "5      2\n",
       "Name: sibsp, dtype: int64"
      ]
     },
     "metadata": {},
     "output_type": "display_data"
    },
    {
     "name": "stdout",
     "output_type": "stream",
     "text": [
      "\n",
      "-----------parch-------\n",
      "\n"
     ]
    },
    {
     "data": {
      "text/plain": [
       "0    240\n",
       "1     43\n",
       "2     22\n",
       "3      3\n",
       "5      1\n",
       "Name: parch, dtype: int64"
      ]
     },
     "metadata": {},
     "output_type": "display_data"
    },
    {
     "name": "stdout",
     "output_type": "stream",
     "text": [
      "\n",
      "-----------cabin-------\n",
      "\n"
     ]
    },
    {
     "data": {
      "text/plain": [
       "C    260\n",
       "B     14\n",
       "E     14\n",
       "D     12\n",
       "A      4\n",
       "F      3\n",
       "G      2\n",
       "Name: paluba, dtype: int64"
      ]
     },
     "metadata": {},
     "output_type": "display_data"
    },
    {
     "data": {
      "text/plain": [
       "3    266\n",
       "1     21\n",
       "0     11\n",
       "4      7\n",
       "2      4\n",
       "Name: pozice, dtype: int64"
      ]
     },
     "metadata": {},
     "output_type": "display_data"
    },
    {
     "name": "stdout",
     "output_type": "stream",
     "text": [
      "\n",
      "-----------age-------\n",
      "\n"
     ]
    },
    {
     "data": {
      "text/plain": [
       "ID         -0.003960\n",
       "pclass     -0.415529\n",
       "titul            NaN\n",
       "sex         0.088015\n",
       "age         1.000000\n",
       "sibsp      -0.213351\n",
       "parch      -0.142492\n",
       "fare        0.178566\n",
       "embarked   -0.038165\n",
       "pozice     -0.095439\n",
       "paluba     -0.171701\n",
       "Name: age, dtype: float64"
      ]
     },
     "metadata": {},
     "output_type": "display_data"
    },
    {
     "data": {
      "text/plain": [
       "4    81\n",
       "2    74\n",
       "3    72\n",
       "5    28\n",
       "1    24\n",
       "0    19\n",
       "6    11\n",
       "Name: age, dtype: int64"
      ]
     },
     "metadata": {},
     "output_type": "display_data"
    },
    {
     "name": "stdout",
     "output_type": "stream",
     "text": [
      "<class 'pandas.core.frame.DataFrame'>\n",
      "RangeIndex: 309 entries, 0 to 308\n",
      "Data columns (total 11 columns):\n",
      "ID          309 non-null int64\n",
      "pclass      309 non-null int64\n",
      "titul       309 non-null int64\n",
      "sex         309 non-null int64\n",
      "age         309 non-null int64\n",
      "sibsp       309 non-null int64\n",
      "parch       309 non-null int64\n",
      "fare        309 non-null int64\n",
      "embarked    309 non-null int64\n",
      "pozice      309 non-null int64\n",
      "paluba      309 non-null int64\n",
      "dtypes: int64(11)\n",
      "memory usage: 26.6 KB\n"
     ]
    }
   ],
   "source": [
    "evaluate = pd.read_csv('evaluation.csv')\n",
    "evaluate.info()\n",
    "evaluate = upravaDat(evaluate)\n",
    "evaluate.info()"
   ]
  },
  {
   "cell_type": "code",
   "execution_count": 20,
   "metadata": {},
   "outputs": [
    {
     "name": "stdout",
     "output_type": "stream",
     "text": [
      "accuracy score (train): 84.53 %\n",
      "accuracy score (test): 81.60 %\n"
     ]
    }
   ],
   "source": [
    "ret = forest(data)\n",
    "result = pd.DataFrame(\n",
    "    {'ID': evaluate['ID'],\n",
    "     'predikce_preziti': ret.predict(evaluate.drop(columns = ['ID']))\n",
    "    })\n",
    "result.to_csv('result.csv', index=False)"
   ]
  },
  {
   "cell_type": "code",
   "execution_count": null,
   "metadata": {},
   "outputs": [],
   "source": []
  }
 ],
 "metadata": {
  "kernelspec": {
   "display_name": "Python 3",
   "language": "python",
   "name": "python3"
  },
  "language_info": {
   "codemirror_mode": {
    "name": "ipython",
    "version": 3
   },
   "file_extension": ".py",
   "mimetype": "text/x-python",
   "name": "python",
   "nbconvert_exporter": "python",
   "pygments_lexer": "ipython3",
   "version": "3.7.0"
  },
  "toc": {
   "base_numbering": 1,
   "nav_menu": {},
   "number_sections": false,
   "sideBar": false,
   "skip_h1_title": false,
   "title_cell": "Table of Contents",
   "title_sidebar": "Contents",
   "toc_cell": false,
   "toc_position": {},
   "toc_section_display": false,
   "toc_window_display": false
  }
 },
 "nbformat": 4,
 "nbformat_minor": 2
}
