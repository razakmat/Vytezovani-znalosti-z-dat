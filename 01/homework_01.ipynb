{
 "cells": [
  {
   "cell_type": "markdown",
   "metadata": {},
   "source": [
    "# Úkol č. 1 - vizualizace dat a web scraping (do 26. října)\n",
    "\n",
    "  * V rámci tohoto úkolu musíte opanovat nástroje pro stahování dat z webu (tzv. _web scraping_) a následně data zpracovat a vizualizovat. \n",
    "  * Jak jsme ukázali na prvním cvičení (poslední část), data o závěrečných pracích na některých univerzitách skýtají zajímavé informace. \n",
    "  * Vaším úkolem je vybrat si jednu z univerzit ze seznamu níže, uložit data o závěrečných pracích v tabulkovém formátu a pak vymyslet vizualizace a zobrazení dat, které umožní orientaci v těchto datech a zvýrazní zajímavé informace.\n",
    "  \n",
    "> **Úkoly jsou zadány tak, aby Vám daly prostor pro invenci. Vymyslet _jak přesně_ budete úkol řešit, je důležitou součástí zadání a originalita či nápaditost bude také hodnocena!**\n",
    "\n",
    "## Výběr zdroje dat\n",
    "\n",
    "Níže jsou odkazy na katalogy knihoven vybraných vysokých škol. Je třeba pochopit, jak z něho dostat informace o závěrečných pracích (bakalářky a diplomky) a ty pak nějak _vyparsovat_.\n",
    "\n",
    "  * [Vysoká škola finanční a správní, a.s.](https://is.vsfs.cz/thesis/)\n",
    "  * [Metropolitan university Prague](https://s-knihovna.mup.cz/katalog/eng/baze.htm)\n",
    "  * [Vysoká škola regionálního rozvoje a Bankovní institut – AMBIS ](https://is.ambis.cz/thesis/)\n",
    "\n",
    "Případně si můžete vybrat školu dle uvážení na portálu [theses.cz](https://theses.cz/th_search/tematicke), ale musí být splněno následující:\n",
    "  * závěrečné práce musí být z jedné školy, alespoň z období 5 let, a musí jich být alespoň 2000,\n",
    "  * u každé práce získáte alespoň následující: informaci o typu (bakalářka/diplomka), název, jméno vedoucího (vč. titulů), rok obhajoby, hodí se i jméno oponenta.\n",
    "\n",
    "## Pokyny k vypracování\n",
    "\n",
    "**Základní body zadání**, za jejichž (poctivé) vypracování získáte **8 bodů**:\n",
    "  * Stáhněte data z vybraného zdroje a uložte je do tabulky ve formátu _csv_.\n",
    "  * Data musí obsahovat u každé práce (= 1 řádek tabulky) _alespoň_ toto:\n",
    "    * informaci o typu (bakalářka/diplomka), název, jméno vedoucího (vč. titulů), rok obhajoby, hodí se i jméno oponenta\n",
    "  * V druhé části Vašeho Jupyter notebooku pracujte s touto tabulkou načtenou z _csv_ souboru (aby opravující nemusel spouštět stahování z webu).\n",
    "  * Tabulku ve formátu _csv_ také odevzdejte.\n",
    "  * S využitím vybraných nástrojů zpracujte data a vymyslete vizualizace a grafy, aby bylo vidět následující:\n",
    "    * Časový vývoj (po rocích) počtu obhájených prací (vč. rozlišení jejich typu).\n",
    "    * Nejpilnější vedoucí (počet vedených prací na rok, za celou dobu atp.). \n",
    "    * To samé pro oponenty a pro součet vedených a oponovaných prací.\n",
    "    * Průměrný počet (medián, minimum, maximum, rozptyl) prací na vedoucího (resp. oponenta) a rok a další informace o rozložení vedení prací na školitele.\n",
    "    * Rozložení vedoucích prací (a oponentů) podle titulů (bakalářský titul, magisterský titul, doktorský titul, docent, profesor, atp.).\n",
    "\n",
    "**Další body zadání** za případné další body (můžete si vybrat, maximum bodů za úkol je každopádně 12 bodů):\n",
    "  * (až +2 body) Zobrazte tabulku (a případně i jiné věci) v Jupyter notebooku pomocí http://beakerx.com.\n",
    "  * (až +2 body) Vymyslete další zajímavé pohledy na data.\n",
    "  * (až +4 body) Vytvořte na základě Vašich dat interaktivní webovou stránku s popisem a vizualizací dat (bude asi nutné použít i nějaké javascriptové balíčky atp.).\n",
    "  * (až +4 body) Stáhněte data k více školám a porovnejte výsledky. Zkuste najít společné školitele/oponenty.\n",
    "\n",
    "## Poznámky k odevzdání\n",
    "\n",
    "  * Řiďte se pokyny ze stránky https://courses.fit.cvut.cz/BI-VZD/homeworks/index.html.\n",
    "  * Odevzdejte nejen Jupyter Notebook, ale i _csv_ soubor(y) se staženými daty.\n",
    "  * Opravující Vám může umožnit úkol dodělat či opravit a získat tak další body. První verze je ale důležitá a bude-li odbytá, budete za to penalizováni."
   ]
  },
  {
   "cell_type": "code",
   "execution_count": null,
   "metadata": {},
   "outputs": [],
   "source": [
    "import numpy as np\n",
    "import pandas as pd\n",
    "import sklearn as skit\n",
    "import matplotlib.pyplot as plt\n",
    "import matplotlib\n",
    "%matplotlib inline \n",
    "matplotlib.style.use('ggplot')\n",
    "import seaborn as sns\n",
    "import requests\n",
    "from bs4 import BeautifulSoup\n",
    "from time import sleep\n",
    "pd.set_option('display.max_rows', 2200)"
   ]
  },
  {
   "cell_type": "code",
   "execution_count": null,
   "metadata": {},
   "outputs": [],
   "source": [
    "url = 'https://theses.cz/th_search/tematicke'\n",
    "data = {\n",
    "    'FAK' : 'th63',\n",
    "    'PRI' : '-', \n",
    "    'ROK' : '-',\n",
    "    'TIT' : '-',\n",
    "    'PRA' : '-', \n",
    "    'pg'  : '1',\n",
    "    'vypsat' : 'Vyhledat'\n",
    "}\n",
    "i = 1\n",
    "data_all = [[],[],[],[],[],[],[],[],[],[],[],[],[]]\n",
    "\n",
    "while True:\n",
    "    r_main = requests.get(url, data)\n",
    "    html_soup_main = BeautifulSoup(r_main.text, 'html.parser')\n",
    "    soup_main = html_soup_main.find_all('div',class_='vysledek')\n",
    "    if (len(soup_main) == 0):\n",
    "        break\n",
    "    for address in soup_main:\n",
    "        r = requests.get('http://theses.cz'+address.find('a')['href'])\n",
    "        html_soup = BeautifulSoup(r.text, 'html.parser')\n",
    "        soup = html_soup.find_all('head')\n",
    "        info = []\n",
    "        info.append(soup[0].find_all('meta', attrs={'name': 'DC.type' , 'xml:lang' : 'cze'}))\n",
    "        info.append(soup[0].find_all('meta', attrs={'name': 'citation_title'}))\n",
    "        info.append(soup[0].find_all('meta', attrs={'name': 'citation_publication_date'}))\n",
    "        info.append(soup[0].find_all('meta', attrs={'name': 'DC.creators.name'}))\n",
    "        info.append(soup[0].find_all('meta', attrs={'name': 'DC.creators.surname'}))\n",
    "        info.append(soup[0].find_all('meta', attrs={'name': 'DC.advisors.name'}))\n",
    "        info.append(soup[0].find_all('meta', attrs={'name': 'DC.advisors.surname'}))\n",
    "        info.append(soup[0].find_all('meta', attrs={'name': 'DC.advisors.titul.za'}))\n",
    "        info.append(soup[0].find_all('meta', attrs={'name': 'DC.advisors.titul.pred'}))\n",
    "        info.append(soup[0].find_all('meta', attrs={'name': 'DC.referees.name'}))\n",
    "        info.append(soup[0].find_all('meta', attrs={'name': 'DC.referees.surname'}))\n",
    "        info.append(soup[0].find_all('meta', attrs={'name': 'DC.referees.titul.za'}))\n",
    "        info.append(soup[0].find_all('meta', attrs={'name': 'DC.referees.titul.pred'}))\n",
    "        \n",
    "        for j in range(13):\n",
    "            if len(info[j]) > 0:\n",
    "                data_all[j].append(info[j][0]['content'])\n",
    "            else:\n",
    "                data_all[j].append(np.nan)\n",
    "    i = i + 1\n",
    "    data['pg'] = i\n",
    "    sleep(150) # sleep to avoid limit in https://theses.cz\n",
    "\n",
    "database = pd.DataFrame({\n",
    "            \"Typ\": data_all[0], \n",
    "            \"Nazev\": data_all[1], \n",
    "            \"Rok\": data_all[2],\n",
    "            \"Autor_Krestni\":data_all[3],\n",
    "            \"Autor_Prijmeni\":data_all[4],\n",
    "            \"Vedouci_Krestni\":data_all[5],\n",
    "            \"Vedouci_Prijmeni\":data_all[6],\n",
    "            \"Vedouci_Titul_Za\":data_all[7],\n",
    "            \"Vedouci_Titul_Pred\":data_all[8],\n",
    "            \"Oponent_Krestni\":data_all[9],\n",
    "            \"Oponent_Prijmeni\":data_all[10],\n",
    "            \"Oponent_Titul_Za\":data_all[11],\n",
    "            \"Oponent_Titul_Pred\":data_all[12]\n",
    "        })\n",
    "database.to_csv('output.csv', index=False)"
   ]
  },
  {
   "cell_type": "code",
   "execution_count": null,
   "metadata": {},
   "outputs": [],
   "source": [
    "data = pd.read_csv('output.csv')\n",
    "data.info()\n",
    "display(data[data['Nazev'].isnull()])\n",
    "display(data[data['Vedouci_Krestni'].isnull()])\n",
    "data=data.drop([1080,1417],axis=0).reset_index(drop=True)\n",
    "data.info()"
   ]
  },
  {
   "cell_type": "code",
   "execution_count": null,
   "metadata": {},
   "outputs": [],
   "source": [
    "display(data[['Typ']].drop_duplicates())\n",
    "bak = data[data['Typ'] == 'Bakalářská práce']\n",
    "dip = data[data['Typ'] == 'Diplomová práce']"
   ]
  },
  {
   "cell_type": "code",
   "execution_count": null,
   "metadata": {},
   "outputs": [],
   "source": [
    "plt.figure(figsize=(11,4))\n",
    "plt.subplot(121)\n",
    "bak['Rok'].plot.hist(color='Red')\n",
    "plt.title(\"Pocet bakalarskych praci za dany rok\")\n",
    "plt.subplot(122)\n",
    "dip['Rok'].plot.hist(color='Green')\n",
    "plt.title(\"Pocet diplomovych praci za dany rok\")"
   ]
  },
  {
   "cell_type": "code",
   "execution_count": null,
   "metadata": {},
   "outputs": [],
   "source": [
    "data['Vedouci'] = data['Vedouci_Prijmeni'] + ' ' + data['Vedouci_Krestni']\n",
    "data['Oponent'] = data['Oponent_Prijmeni'] + ' ' + data['Oponent_Krestni']\n",
    "data.drop('Vedouci_Prijmeni', axis=1, inplace=True)\n",
    "data.drop('Oponent_Prijmeni', axis=1, inplace=True)\n",
    "data.drop('Vedouci_Krestni', axis=1, inplace=True)\n",
    "data.drop('Oponent_Krestni', axis=1, inplace=True)"
   ]
  },
  {
   "cell_type": "code",
   "execution_count": null,
   "metadata": {},
   "outputs": [],
   "source": [
    "plt.figure(figsize=(13,4))\n",
    "j=131\n",
    "for i in range(3):\n",
    "        data1 = data[data['Rok']==i+2013].groupby('Vedouci').size()\n",
    "        plt.subplot(j)\n",
    "        data1.sort_values()[-10:].plot(kind='bar')\n",
    "        plt.title(\"Nejpilnější vedoucí. Rok - \" + str(i+2013))\n",
    "        j=j+1"
   ]
  },
  {
   "cell_type": "code",
   "execution_count": null,
   "metadata": {},
   "outputs": [],
   "source": [
    "plt.figure(figsize=(13,4))\n",
    "j=131\n",
    "for i in range(3):\n",
    "        data1 = data[data['Rok']==i+2016].groupby('Vedouci').size()\n",
    "        plt.subplot(j)\n",
    "        data1.sort_values()[-10:].plot(kind='bar')\n",
    "        plt.title(\"Nejpilnější vedoucí. Rok - \" + str(i+2016))\n",
    "        j=j+1"
   ]
  },
  {
   "cell_type": "code",
   "execution_count": null,
   "metadata": {},
   "outputs": [],
   "source": [
    "data1 = data.groupby('Vedouci').size()\n",
    "data1.sort_values()[-10:].plot(kind='bar')\n",
    "plt.title(\"Nejpilnější vedoucí\")"
   ]
  },
  {
   "cell_type": "code",
   "execution_count": null,
   "metadata": {},
   "outputs": [],
   "source": [
    "data1 = data.groupby('Oponent').size()\n",
    "data1.sort_values()[-10:].plot(kind='bar')\n",
    "plt.title(\"Nejpilnější oponent\")"
   ]
  },
  {
   "cell_type": "code",
   "execution_count": null,
   "metadata": {},
   "outputs": [],
   "source": [
    "data1 = data['Vedouci']\n",
    "data2 = data['Oponent']\n",
    "data3 = pd.concat([data1,data2],ignore_index=True)\n",
    "plt.figure(figsize=(7,4))\n",
    "data3.groupby(data3).size().sort_values()[-10:].plot(kind='bar')\n",
    "plt.title(\"Nejpilnější osoba(soucet vedenych a oponovanych praci)\")"
   ]
  },
  {
   "cell_type": "code",
   "execution_count": null,
   "metadata": {},
   "outputs": [],
   "source": [
    "for i in range(6):\n",
    "    data4 = data[data['Rok'] == i + 2013]\n",
    "    print('Info o pracich na vedouciho na rok ' + str(i+2013))\n",
    "    display(data4.groupby('Vedouci').size().describe())"
   ]
  },
  {
   "cell_type": "code",
   "execution_count": null,
   "metadata": {},
   "outputs": [],
   "source": [
    "info = [[],[],[],[],[]]\n",
    "for i in range(6):\n",
    "    data4 = data[data['Rok'] == i + 2013]\n",
    "    info[0].append(data4.groupby('Oponent').size().mean())\n",
    "    info[1].append(data4.groupby('Oponent').size().std())\n",
    "    info[2].append(data4.groupby('Oponent').size().max())\n",
    "    info[3].append(data4.groupby('Oponent').size().min())\n",
    "    info[4].append(data4.groupby('Oponent').size().count())\n",
    "data5 = pd.DataFrame({\n",
    "            \"Rok\": [2013,2014,2015,2016,2017,2018], \n",
    "            \"Count\" : info[4],\n",
    "            \"Median\": info[0], \n",
    "            \"Rozptyl\": info[1],\n",
    "            \"minimum\": info[3],\n",
    "            \"maximum\": info[2]            \n",
    "        })\n",
    "x = data5['Rok']\n",
    "y = data5['Count']\n",
    "print('Info o pracich na oponenta na rok')\n",
    "display(data5.plot(x='Rok',y='Count',kind='bar'))\n",
    "display(data5.plot(x='Rok',y='Median',kind='bar'))\n",
    "display(data5.plot(x='Rok',y='Rozptyl',kind='bar'))\n",
    "display(data5.plot(x='Rok',y='minimum',kind='bar'))\n",
    "display(data5.plot(x='Rok',y='maximum',kind='bar'))"
   ]
  },
  {
   "cell_type": "code",
   "execution_count": null,
   "metadata": {
    "scrolled": false
   },
   "outputs": [],
   "source": [
    "data7 = data[['Vedouci','Vedouci_Titul_Za','Vedouci_Titul_Pred']]\n",
    "data7 = data7.drop_duplicates().sort_values(by='Vedouci')\n",
    "\n",
    "data7 = data7.replace(np.nan, 'nic', regex=True)\n",
    "data7 = data7.reset_index()\n",
    "titul= []\n",
    "for i in range(data7.shape[0]):\n",
    "    st = data.loc[i]['Vedouci_Titul_Pred'].split(' ')\n",
    "    for j in range(len(st)):\n",
    "        titul.append(st[j])\n",
    "    st = data7.loc[i]['Vedouci_Titul_Za'].split(' ')\n",
    "    for j in range(len(st)):\n",
    "        titul.append(st[j])\n",
    "data7 = pd.DataFrame({\n",
    "            \"Titul\": titul                      \n",
    "        })\n",
    "plt.figure(figsize=(10,8))\n",
    "\n",
    "data7 = data7.groupby('Titul').size()\n",
    "data7 = data7.drop(labels=['nic'])\n",
    "data7.sort_values().plot(kind='bar')\n",
    "plt.title(\"Rozlozeni vedoucich praci podle titulu\")\n"
   ]
  },
  {
   "cell_type": "code",
   "execution_count": null,
   "metadata": {},
   "outputs": [],
   "source": [
    "data7 = data[['Oponent','Oponent_Titul_Za','Oponent_Titul_Pred']]\n",
    "data7 = data7.drop_duplicates().sort_values(by='Oponent')\n",
    "\n",
    "data7 = data7.replace(np.nan, 'nic', regex=True)\n",
    "data7 = data7.reset_index()\n",
    "titul= []\n",
    "for i in range(data7.shape[0]):\n",
    "    st = data.loc[i]['Oponent_Titul_Pred'].split(' ')\n",
    "    for j in range(len(st)):\n",
    "        titul.append(st[j])\n",
    "    st = data7.loc[i]['Oponent_Titul_Za'].split(' ')\n",
    "    for j in range(len(st)):\n",
    "        titul.append(st[j])\n",
    "data7 = pd.DataFrame({\n",
    "            \"Titul\": titul                      \n",
    "        })\n",
    "plt.figure(figsize=(10,8))\n",
    "data7 = data7.groupby('Titul').size()\n",
    "data7 = data7.drop(labels=['nic'])\n",
    "data7.sort_values().plot(kind='bar')\n",
    "plt.title(\"Rozlozeni oponentu praci podle titulu\")"
   ]
  },
  {
   "cell_type": "code",
   "execution_count": null,
   "metadata": {},
   "outputs": [],
   "source": [
    "#"
   ]
  }
 ],
 "metadata": {
  "kernelspec": {
   "display_name": "Python 3",
   "language": "python",
   "name": "python3"
  },
  "language_info": {
   "codemirror_mode": {
    "name": "ipython",
    "version": 3
   },
   "file_extension": ".py",
   "mimetype": "text/x-python",
   "name": "python",
   "nbconvert_exporter": "python",
   "pygments_lexer": "ipython3",
   "version": "3.7.0"
  }
 },
 "nbformat": 4,
 "nbformat_minor": 2
}
